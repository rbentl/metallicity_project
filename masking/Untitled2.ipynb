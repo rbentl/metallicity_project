{
 "cells": [
  {
   "cell_type": "code",
   "execution_count": 1,
   "metadata": {},
   "outputs": [
    {
     "name": "stdout",
     "output_type": "stream",
     "text": [
      "[\u001b[1mstarkit.gridkit.base\u001b[0m][\u001b[1;37mINFO\u001b[0m   ]  Reading index (\u001b[1mbase.py\u001b[0m:266)\n",
      "[\u001b[1mstarkit.gridkit.base\u001b[0m][\u001b[1;37mINFO\u001b[0m   ]  Discovered columns teff, logg, mh, alpha (\u001b[1mbase.py\u001b[0m:269)\n",
      "[\u001b[1mstarkit.gridkit.base\u001b[0m][\u001b[1;37mINFO\u001b[0m   ]  Reading Fluxes (\u001b[1mbase.py\u001b[0m:272)\n",
      "[\u001b[1mstarkit.gridkit.base\u001b[0m][\u001b[1;37mINFO\u001b[0m   ]  Fluxes shape (6790, 18233) (\u001b[1mbase.py\u001b[0m:275)\n",
      "[\u001b[1mpy.warnings         \u001b[0m][\u001b[1;33mWARNING\u001b[0m]  /u/rbentley/miniconda3/envs/starkit/lib/python2.7/site-packages/astropy/units/format/generic.py:461: UnitsWarning: 'erg/s/angstrom' contains multiple slashes, which is discouraged by the FITS standard\n",
      "  core.UnitsWarning)\n",
      " (\u001b[1mgeneric.py\u001b[0m:461)\n",
      "[\u001b[1mstarkit.gridkit.base\u001b[0m][\u001b[1;37mINFO\u001b[0m   ]  Initializing spec grid (\u001b[1mbase.py\u001b[0m:309)\n",
      "[\u001b[1mstarkit.gridkit.base\u001b[0m][\u001b[1;33mWARNING\u001b[0m]  **** NO WAVELENGTH TYPE SET DEFAULTING TO GRID (vacuum) ****\n",
      "\n",
      " (\u001b[1mbase.py\u001b[0m:75)\n"
     ]
    }
   ],
   "source": [
    "import numpy as np\n",
    "import pandas as pd\n",
    "import pylab as plt\n",
    "import matplotlib\n",
    "import math\n",
    "from astropy import units as u\n",
    "from astropy.modeling import models,fitting\n",
    "from astropy.modeling import Model\n",
    "from astropy.io import ascii\n",
    "from astroquery.vizier import Vizier\n",
    "import starkit\n",
    "from starkit.fitkit.likelihoods import SpectralChi2Likelihood as Chi2Likelihood, SpectralL1Likelihood\n",
    "from starkit.gridkit import load_grid\n",
    "from starkit.fitkit.multinest.base import MultiNest, MultiNestResult\n",
    "from starkit import assemble_model, operations\n",
    "from starkit.fitkit import priors\n",
    "from starkit.base.operations.spectrograph import (Interpolate, Normalize,\n",
    "                                                  NormalizeParts,InstrumentConvolveGrating)\n",
    "from starkit.base.operations.stellar import (RotationalBroadening, DopplerShift)\n",
    "from starkit.fix_spectrum1d import SKSpectrum1D\n",
    "from specutils import read_fits_file,plotlines\n",
    "import numpy as np\n",
    "import os,scipy\n",
    "from specutils import Spectrum1D,rvmeasure\n",
    "import datetime,glob\n",
    "import model_tester_updated as mt\n",
    "from matplotlib.backends.backend_pdf import PdfPages\n",
    "import operator\n",
    "import sys\n",
    "from matplotlib.pyplot import cm\n",
    "import multi_order_fitting_functions as mtf\n",
    "from scipy.stats.stats import pearsonr, chisquare\n",
    "from scipy.optimize import curve_fit\n",
    "from scipy import ndimage as nd\n",
    "import sl_response_plot_multiorder as slp\n",
    "import scipy.stats\n",
    "\n",
    "\n",
    "class Splitter3(Model):\n",
    "    # split a single spectrum into 3\n",
    "    inputs = ('w', 'f')\n",
    "    outputs = ('w', 'f', 'w', 'f', 'w', 'f')\n",
    "\n",
    "    def evaluate(self, w, f):\n",
    "        return w, f, w, f, w, f\n",
    "\n",
    "\n",
    "class Combiner3(Model):\n",
    "    # combines the likelihood for four spectra\n",
    "    inputs = ('l1', 'l2', 'l3')\n",
    "    outputs = ('ltot',)\n",
    "\n",
    "    def evaluate(self, l1, l2, l3):\n",
    "        return l1 + l2 + l3\n",
    "    \n",
    "g = mtf.load_full_grid_bosz()"
   ]
  },
  {
   "cell_type": "code",
   "execution_count": 2,
   "metadata": {},
   "outputs": [
    {
     "name": "stdout",
     "output_type": "stream",
     "text": [
      "[\u001b[1mpy.warnings         \u001b[0m][\u001b[1;33mWARNING\u001b[0m]  /Network/Servers/galaxy1.astro.ucla.edu/volume1/GhezGroup/home-directories/rbentley/miniconda3/envs/starkit/lib/python2.7/site-packages/ipykernel_launcher.py:1: VisibleDeprecationWarning: Reading unicode strings without specifying the encoding argument is deprecated. Set the encoding, use None for the system default.\n",
      "  \"\"\"Entry point for launching an IPython kernel.\n",
      " (\u001b[1mnpyio.py\u001b[0m:2068)\n"
     ]
    }
   ],
   "source": [
    "cal_star_info_all = list(scipy.genfromtxt('/u/rbentley/metallicity/cal_star_info.dat', delimiter='\\t', skip_header=1, dtype=None))\n",
    "cal_star_info_all.sort(key=lambda x: x[1])\n",
    "cal_star_names = [x[0] for x in cal_star_info_all[:-1]]\n",
    "\n",
    "snr=30.\n",
    "\n",
    "plot_stars = ['NGC6791_J19205+3748282', 'NGC6819_J19411+4010517', 'M5 J15190+0208']"
   ]
  },
  {
   "cell_type": "code",
   "execution_count": 10,
   "metadata": {},
   "outputs": [
    {
     "data": {
      "image/png": "[encoded data removed]",
      "text/plain": [
       "<Figure size 432x288 with 12 Axes>"
      ]
     },
     "metadata": {
      "needs_background": "light"
     },
     "output_type": "display_data"
    }
   ],
   "source": [
    "fig, axs = plt.subplots(3, 4, sharex='col', sharey='row',\n",
    "                        gridspec_kw={'hspace': 0, 'wspace': 0})\n",
    "\n",
    "si1_ax, si2_ax, s1_ax = axs        "
   ]
  },
  {
   "cell_type": "code",
   "execution_count": 14,
   "metadata": {},
   "outputs": [
    {
     "name": "stdout",
     "output_type": "stream",
     "text": [
      "('clipping', [2.2449279, 2.2750347])\n",
      "('clipping', [2.1811268, 2.2103229])\n",
      "('clipping', [2.1168036, 2.1450112])\n",
      "0\n",
      "('clipping', [2.2403469, 2.2703373])\n",
      "('clipping', [2.1811268, 2.2103229])\n",
      "('clipping', [2.1168036, 2.1450112])\n",
      "1\n",
      "('clipping', [2.2413218, 2.2714481])\n",
      "('clipping', [2.1776764, 2.2069016])\n",
      "('clipping', [2.1176255, 2.1459301])\n",
      "2\n"
     ]
    }
   ],
   "source": [
    "    for k in range(len(plot_stars)):\n",
    "        starname = plot_stars[k]\n",
    "        \n",
    "        result = MultiNestResult.from_hdf5(\n",
    "            '/u/rbentley/metallicity/spectra_fits/masked_fit_results/orders34-35-36/BOSZ_fits/unmasked/' + starname + '_order34-36_bosz_adderr.h5')\n",
    "        \n",
    "        file1 = glob.glob('/u/ghezgroup/data/metallicity/nirspec/spectra/' + starname + '_order34*.dat')\n",
    "        file2 = glob.glob('/u/ghezgroup/data/metallicity/nirspec/spectra/' + starname + '_order35*.dat')\n",
    "        file3 = glob.glob('/u/ghezgroup/data/metallicity/nirspec/spectra/' + starname + '_order36*.dat')\n",
    "\n",
    "        starspectrum34 = read_fits_file.read_nirspec_dat(file1, desired_wavelength_units='micron')\n",
    "        starspectrum35 = read_fits_file.read_nirspec_dat(file2, desired_wavelength_units='micron')\n",
    "        starspectrum36 = read_fits_file.read_nirspec_dat(file3, desired_wavelength_units='micron')\n",
    "\n",
    "        waverange34 = [np.amin(starspectrum34.wavelength.value[:970]), np.amax(starspectrum34.wavelength.value[:970])]\n",
    "        waverange35 = [np.amin(starspectrum35.wavelength.value[:970]), np.amax(starspectrum35.wavelength.value[:970])]\n",
    "        waverange36 = [np.amin(starspectrum36.wavelength.value[:970]), np.amax(starspectrum36.wavelength.value[:970])]\n",
    "\n",
    "        starspectrum34 = read_fits_file.read_nirspec_dat(file1, desired_wavelength_units='Angstrom',\n",
    "                                                         wave_range=waverange34)\n",
    "        starspectrum35 = read_fits_file.read_nirspec_dat(file2, desired_wavelength_units='Angstrom',\n",
    "                                                         wave_range=waverange35)\n",
    "        starspectrum36 = read_fits_file.read_nirspec_dat(file3, desired_wavelength_units='Angstrom',\n",
    "                                                         wave_range=waverange36)\n",
    "\n",
    "        starspectrum34.uncertainty = (np.zeros(len(starspectrum34.flux.value)) + 1.0 / np.float(\n",
    "            snr)) * starspectrum34.flux.unit\n",
    "        starspectrum35.uncertainty = (np.zeros(len(starspectrum35.flux.value)) + 1.0 / np.float(\n",
    "            snr)) * starspectrum35.flux.unit\n",
    "        starspectrum36.uncertainty = (np.zeros(len(starspectrum36.flux.value)) + 1.0 / np.float(\n",
    "            snr)) * starspectrum36.flux.unit\n",
    "        \n",
    "        bmodel = slp.make_model_three_order(starspectrum34, starspectrum35, starspectrum36, g)\n",
    "        \n",
    "        \n",
    "        w1, f1, w2, f2, w3, f3 = bmodel()\n",
    "\n",
    "\n",
    "        cont34 = []\n",
    "        for s in np.linspace(22400, 22750, 8):\n",
    "            data_idx = np.where((w1 >= s) & (w1 <= s+50))[0]\n",
    "\n",
    "            if (s+50 <= np.amax(w1)) & (s >= np.amin(w1)):\n",
    "\n",
    "                cont34 += [(np.amax(f1[data_idx]), s,s+50)]\n",
    "\n",
    "        cont35 = []\n",
    "        for s in np.linspace(21750, 22100, 8):\n",
    "            data_idx = np.where((w2 >= s) & (w2 <= s+50))[0]\n",
    "            if (s+50 <= np.amax(w2)) & (s >= np.amin(w2)):\n",
    "\n",
    "                cont35 += [(np.amax(f2[data_idx]), s,s+50)]\n",
    "\n",
    "        cont36 = []\n",
    "        for s in np.linspace(21150, 21500, 8):\n",
    "            data_idx = np.where((w3 >= s) & (w3 <= s+50))[0]\n",
    "\n",
    "            if (s+50 <= np.amax(w3)) & (s >= np.amin(w3)):\n",
    "\n",
    "                cont36 += [(np.amax(f3[data_idx]), s,s+50)]\n",
    "\n",
    "\n",
    "        b_si1_ew = rvmeasure.equivalent_width(w2, f2, specRange=[22076.5, 22080.5],\n",
    "                                     continuum=cont35[4][0])  # Si line\n",
    "\n",
    "        b_si2_ew = rvmeasure.equivalent_width(w3, f3, specRange=[21376.5, 21380.5],\n",
    "                                     continuum=cont36[3][0])  # Si line\n",
    "        b_s1_ew = rvmeasure.equivalent_width(w1, f1, specRange=[22511.5, 22516],\n",
    "                                     continuum=cont34[1][0])  # S line\n",
    "\n",
    "\n",
    "        d_w1 = starspectrum34.wavelength.value / (result.median['vrad_3'] / 3e5 + 1.0)\n",
    "        d_w2 = starspectrum35.wavelength.value / (result.median['vrad_4'] / 3e5 + 1.0)\n",
    "        d_w3 = starspectrum36.wavelength.value / (result.median['vrad_5'] / 3e5 + 1.0)\n",
    "\n",
    "\n",
    "        d_si1_ew = rvmeasure.equivalent_width(d_w2, starspectrum35.flux.value, specRange=[22076.5, 22080.5],\n",
    "                                         continuum=cont35[4][0])  # Si line\n",
    "\n",
    "        d_si2_ew = rvmeasure.equivalent_width(d_w3, starspectrum36.flux.value, specRange=[21376.5, 21380.5],\n",
    "                                         continuum=cont36[3][0])  # Si line\n",
    "        d_s1_ew = rvmeasure.equivalent_width(d_w1, starspectrum34.flux.value, specRange=[22511.5, 22516],\n",
    "                                         continuum=cont34[1][0])  # S line\n",
    "        print k\n",
    "        si1_ax[k].plot(d_w2, starspectrum35.flux.value)\n",
    "        \n",
    "    plt.show()\n",
    "        "
   ]
  },
  {
   "cell_type": "code",
   "execution_count": 8,
   "metadata": {},
   "outputs": [],
   "source": [
    "\\"
   ]
  },
  {
   "cell_type": "code",
   "execution_count": null,
   "metadata": {},
   "outputs": [],
   "source": []
  }
 ],
 "metadata": {
  "kernelspec": {
   "display_name": "Python 2",
   "language": "python",
   "name": "python2"
  },
  "language_info": {
   "codemirror_mode": {
    "name": "ipython",
    "version": 2
   },
   "file_extension": ".py",
   "mimetype": "text/x-python",
   "name": "python",
   "nbconvert_exporter": "python",
   "pygments_lexer": "ipython2",
   "version": "2.7.15"
  }
 },
 "nbformat": 4,
 "nbformat_minor": 2
}
